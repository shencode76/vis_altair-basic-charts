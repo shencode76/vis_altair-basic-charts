{
 "cells": [
  {
   "cell_type": "markdown",
   "id": "065e4f4c-0d34-43aa-a353-e3dd5f268a68",
   "metadata": {},
   "source": [
    "# Assignment5 Altair Basic Charts\n",
    "## Yuxi Shen "
   ]
  },
  {
   "cell_type": "markdown",
   "id": "38a56c02-68cc-4c37-a1c3-21929f2b7275",
   "metadata": {
    "tags": []
   },
   "source": [
    "## Set Up"
   ]
  },
  {
   "cell_type": "code",
   "execution_count": null,
   "id": "17465b7c-e4b3-4bb2-a504-bb3908437927",
   "metadata": {},
   "outputs": [],
   "source": [
    "import pandas as pd"
   ]
  },
  {
   "cell_type": "code",
   "execution_count": null,
   "id": "e6d83dc5-7fbe-4680-80d5-13b7d0c2702b",
   "metadata": {},
   "outputs": [],
   "source": [
    "import altair as alt"
   ]
  },
  {
   "cell_type": "code",
   "execution_count": null,
   "id": "8031a2ee-8ad9-4cd2-93c9-50db2bd07ab7",
   "metadata": {},
   "outputs": [],
   "source": [
    "from altair import datum"
   ]
  },
  {
   "cell_type": "code",
   "execution_count": null,
   "id": "1fece562-e618-452a-ba81-4ee9739f8a6f",
   "metadata": {},
   "outputs": [],
   "source": [
    "alt.renderers.enable('jupyterlab', embed_options={'renderer': 'svg'})"
   ]
  },
  {
   "cell_type": "markdown",
   "id": "ac17b054-71c3-4a95-8e98-34689df14ad0",
   "metadata": {},
   "source": [
    "##  Load the dataset"
   ]
  },
  {
   "cell_type": "code",
   "execution_count": null,
   "id": "481a2645-4e05-4ecc-b083-4277980f6b79",
   "metadata": {},
   "outputs": [],
   "source": [
    "df = pd.read_csv('netflix_titles.csv')\n",
    "df = df.drop_duplicates()"
   ]
  },
  {
   "cell_type": "code",
   "execution_count": null,
   "id": "47c74496-99e5-4c4b-ba68-afd2a7520823",
   "metadata": {},
   "outputs": [],
   "source": [
    "df.head(10)"
   ]
  },
  {
   "cell_type": "markdown",
   "id": "6c564e3c-b926-455b-8101-7eabca8d8599",
   "metadata": {},
   "source": [
    "## Create and discuss two interesting visualizations"
   ]
  },
  {
   "cell_type": "markdown",
   "id": "32730c6a-fc1b-4a9b-be87-6e17cd34df98",
   "metadata": {},
   "source": [
    "### Visualization 1\n",
    "#### Movies/TV shows Production Distribution per Country by Years from 1990 "
   ]
  },
  {
   "cell_type": "code",
   "execution_count": null,
   "id": "2dbb4d4d-4fee-4589-99bf-95d269b4946c",
   "metadata": {},
   "outputs": [],
   "source": [
    "countries = {\"United States\", \"United Kingdom\", \"China\", \"Russia\", \"Japan\", \"South Korea\", \"Spain\", \n",
    "             \"India\", \"Indonesia\", \"Turkey\", \"Canada\", \"France\", \"Italy\", \"Norway\", \n",
    "             \"Iceland\", \"Switzerland\",\"Australia\", \"New Zealand\"}\n",
    "df_movie_countreis = df.loc[df[\"country\"].isin(countries)].dropna()\n",
    "df_movie_countreis = df_movie_countreis[df_movie_countreis[\"type\"] == \"Movie\"]\n",
    "df_movie_countreis = df_movie_countreis[df_movie_countreis[\"release_year\"]>=1980]\n",
    "df_movie_countreis = df_movie_countreis[:5000]"
   ]
  },
  {
   "cell_type": "code",
   "execution_count": null,
   "id": "cb4ba6db-604f-48d6-9bbf-4e4523decad4",
   "metadata": {},
   "outputs": [],
   "source": [
    "area = alt.Chart(df_movie_countreis).mark_area().encode(\n",
    "    x='release_year:O',\n",
    "    y='count():O',\n",
    "    color = alt.Color('country:N', title = 'name of countries'),\n",
    ").properties(\n",
    "    title = 'Movies/TV shows Production Distribution per Country by Years from 1990'\n",
    ")\n",
    "area"
   ]
  },
  {
   "cell_type": "markdown",
   "id": "0b0c6aec-e9c6-4450-b7d6-f1de4f0eb054",
   "metadata": {
    "jp-MarkdownHeadingCollapsed": true,
    "tags": []
   },
   "source": [
    "#### Explanation\n",
    "For this visualization, I select some of the countries and try to visualize the growth of a number of movies starting from 1980. My hypothesis was that the sum of movies o\n",
    "f all western countries should take a higher percentage in the number of movies. Clearly seeing from this area chart, we could find that the United States contributes the main part of the movie library of Netflix. India wins the second prize. The chart of collected movies distribution also shows Netflix's deployment in the global film industry. This chart also proves my point, since most of the movies published on Netflix are actually from western countries. The fact is understandable because the main users of Netflix are western country citizens. \n",
    "\n",
    "The mark: Areas of movies from each country\n",
    "\n",
    "The channel: The magnitude channel is area of each bar, and the identity channel is color hue of each bar.\n",
    "\n",
    "Why area chart: The area of the area chart conveys a quantitative value for that attribute(number of movies each year). Area charts show 3 attributes, but only one is quantitative(count of movies); the other two are the categorical attributes : one is the time series(across years), and the other one is countries.\n",
    "\n",
    "Task:\n",
    "high level:Present the distribution of movie library of Netflix \n",
    "mid level:Explore the distribution of movie library of Netflix \n",
    "low level:Summarize the distribution of movie library of Netflix \n",
    "\n"
   ]
  },
  {
   "cell_type": "markdown",
   "id": "fbdc7062-3549-4c0d-a648-9351cb331084",
   "metadata": {},
   "source": [
    "### Visualization 2\n",
    "#### Directors and their TV show ratings"
   ]
  },
  {
   "cell_type": "code",
   "execution_count": null,
   "id": "edb42f66-2f96-45b5-9736-36606a338790",
   "metadata": {},
   "outputs": [],
   "source": [
    "df_TVshows = df[df['type'] == \"TV Show\"][:5000]\n",
    "df_TVshows = df_TVshows.dropna()"
   ]
  },
  {
   "cell_type": "code",
   "execution_count": null,
   "id": "33513aee-726d-49ac-8d03-1ac47aad0cb4",
   "metadata": {},
   "outputs": [],
   "source": [
    "bars = alt.Chart(df_TVshows).mark_bar().encode(\n",
    "    x='count():O',\n",
    "    y=alt.Y('director:O', sort='-x'),\n",
    "    color = alt.Color('rating:N', title = 'Ratings', sort = \"descending\"),\n",
    ")\n",
    "\n",
    "text = bars.mark_text(\n",
    "    align='left',\n",
    "    baseline='middle',\n",
    "    dx=3  # Nudges text to right so it doesn't appear on top of the bar\n",
    ")\n",
    "\n",
    "(bars + text).properties(height=900)"
   ]
  },
  {
   "cell_type": "markdown",
   "id": "91088261-69c6-48ea-a6bc-e0cfa1836f38",
   "metadata": {},
   "source": [
    "#### Explanation "
   ]
  },
  {
   "cell_type": "markdown",
   "id": "c3752ec4-0e0e-45c3-a8ba-1dda845e9537",
   "metadata": {},
   "source": [
    "I want to use the second visualization to show the top 100 directors of the TV shows collected in Netflix movie library. I wonder which directors and which types of TV shows Netflix will include in its library. In this chart, we can clearly see that most directors only shoot TV shows for one season. Alastair Forthergill is the only director with three TV shows, Iginio, Stan, Shin, and Rob with two. There may be directors who produce best-selling TV shows, but for one reason or another don't put their name on them. It is not difficult to see from this dataset that movies occupy the majority of Netflix library, which also indicates that Alastair's TV show is very popular. He is known for Planet Earth (2006), The Blue Planet (2001) and Frozen Planet (2011).\n",
    "\n",
    "The mark: The mark is Line of each bar. \n",
    "\n",
    "The channel: The identity channel is color hue, and the magnitude channel is Length.\n",
    "\n",
    "Why bar chart:  The height of the bar conveys a quantitative value for that attribute(number of TV shows). Bar charts show two attributes, but only one is quantitative; the other is the categorical attribute used to spread out the bars along the axis (in this case,the name of directors). In addition, the color of bars is also a categorical attribute used to shows the rating of the TV shows produced by the director.\n",
    "\n",
    "Task:\n",
    "high level task: Present the top TV show directors \n",
    "mid level task: Explore the table of TV shows from directors with different ratings \n",
    "low level task: Summarize the directors.\n",
    "\n"
   ]
  },
  {
   "cell_type": "code",
   "execution_count": null,
   "id": "477bb46b-428e-401e-b622-8c828da59290",
   "metadata": {},
   "outputs": [],
   "source": []
  }
 ],
 "metadata": {
  "kernelspec": {
   "display_name": "Python 3 (ipykernel)",
   "language": "python",
   "name": "python3"
  },
  "language_info": {
   "codemirror_mode": {
    "name": "ipython",
    "version": 3
   },
   "file_extension": ".py",
   "mimetype": "text/x-python",
   "name": "python",
   "nbconvert_exporter": "python",
   "pygments_lexer": "ipython3",
   "version": "3.8.5"
  }
 },
 "nbformat": 4,
 "nbformat_minor": 5
}
